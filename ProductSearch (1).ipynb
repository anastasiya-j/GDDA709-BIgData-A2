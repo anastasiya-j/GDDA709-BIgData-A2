{
 "cells": [
  {
   "cell_type": "code",
   "execution_count": 2,
   "id": "71e6ada9-7314-4d10-88ea-14f06e67fc7c",
   "metadata": {},
   "outputs": [
    {
     "name": "stdout",
     "output_type": "stream",
     "text": [
      "Defaulting to user installation because normal site-packages is not writeable\n",
      "Looking in links: /usr/share/pip-wheels\n",
      "Requirement already satisfied: pyspark in /home/8bd417c2-1dcf-4a7f-8845-a3119d986100/.local/lib/python3.10/site-packages (3.5.1)\n",
      "Requirement already satisfied: py4j==0.10.9.7 in /home/8bd417c2-1dcf-4a7f-8845-a3119d986100/.local/lib/python3.10/site-packages (from pyspark) (0.10.9.7)\n"
     ]
    }
   ],
   "source": [
    "#Pip install pyspark\n",
    "!pip install pyspark"
   ]
  },
  {
   "cell_type": "code",
   "execution_count": 3,
   "id": "9ee6d61b-9342-4e51-8a18-45bb94d76d14",
   "metadata": {},
   "outputs": [],
   "source": [
    "#Import libraries \n",
    "from pyspark.sql import SparkSession\n",
    "from pyspark.sql.functions import *\n",
    "from pyspark.sql.types import *\n",
    "from pyspark import SparkContext\n"
   ]
  },
  {
   "cell_type": "code",
   "execution_count": 4,
   "id": "f38af9b5-fc98-419a-b2b1-c312b127afe2",
   "metadata": {},
   "outputs": [
    {
     "name": "stdout",
     "output_type": "stream",
     "text": [
      "JAVA_HOME is set to: /usr/lib/jvm/default-java\n"
     ]
    }
   ],
   "source": [
    "import os\n",
    "\n",
    "java_home = os.environ.get('JAVA_HOME')\n",
    "if java_home:\n",
    "    print(\"JAVA_HOME is set to:\", java_home)\n",
    "else:\n",
    "    print(\"JAVA_HOME is not set.\")\n"
   ]
  },
  {
   "cell_type": "code",
   "execution_count": 5,
   "id": "c39178d9-6e75-424e-976a-8e108a691f81",
   "metadata": {},
   "outputs": [
    {
     "name": "stderr",
     "output_type": "stream",
     "text": [
      "24/08/05 07:52:19 WARN Utils: Your hostname, blue-nbjupyterhub1 resolves to a loopback address: 127.0.0.1; using 10.0.0.11 instead (on interface ens5)\n",
      "24/08/05 07:52:19 WARN Utils: Set SPARK_LOCAL_IP if you need to bind to another address\n",
      "Setting default log level to \"WARN\".\n",
      "To adjust logging level use sc.setLogLevel(newLevel). For SparkR, use setLogLevel(newLevel).\n",
      "24/08/05 07:52:20 WARN NativeCodeLoader: Unable to load native-hadoop library for your platform... using builtin-java classes where applicable\n"
     ]
    }
   ],
   "source": [
    "# Initialize Spark session\n",
    "spark = SparkSession.builder \\\n",
    "    .appName('RetailMapReduce') \\\n",
    "    .config(\"spark.executor.memory\", \"2g\") \\\n",
    "    .config(\"spark.driver.memory\", \"1g\") \\\n",
    "    .config(\"spark.sql.shuffle.partitions\", \"100\") \\\n",
    "    .getOrCreate()"
   ]
  },
  {
   "cell_type": "code",
   "execution_count": 6,
   "id": "b9e96179-23d7-445f-a7d1-28f859851702",
   "metadata": {},
   "outputs": [],
   "source": [
    "#Load the CSV file\n",
    "df = spark.read.csv('retail.csv',header=True,escape=\"\\\"\")"
   ]
  },
  {
   "cell_type": "code",
   "execution_count": 7,
   "id": "b9d9ec47-70a0-45f9-a9df-777598d88852",
   "metadata": {},
   "outputs": [
    {
     "data": {
      "text/html": [
       "<div>\n",
       "<style scoped>\n",
       "    .dataframe tbody tr th:only-of-type {\n",
       "        vertical-align: middle;\n",
       "    }\n",
       "\n",
       "    .dataframe tbody tr th {\n",
       "        vertical-align: top;\n",
       "    }\n",
       "\n",
       "    .dataframe thead th {\n",
       "        text-align: right;\n",
       "    }\n",
       "</style>\n",
       "<table border=\"1\" class=\"dataframe\">\n",
       "  <thead>\n",
       "    <tr style=\"text-align: right;\">\n",
       "      <th></th>\n",
       "      <th>InvoiceNo</th>\n",
       "      <th>StockCode</th>\n",
       "      <th>Description</th>\n",
       "      <th>Quantity</th>\n",
       "      <th>InvoiceDate</th>\n",
       "      <th>UnitPrice</th>\n",
       "      <th>CustomerID</th>\n",
       "      <th>Country</th>\n",
       "    </tr>\n",
       "  </thead>\n",
       "  <tbody>\n",
       "    <tr>\n",
       "      <th>0</th>\n",
       "      <td>536365</td>\n",
       "      <td>85123A</td>\n",
       "      <td>WHITE HANGING HEART T-LIGHT HOLDER</td>\n",
       "      <td>6</td>\n",
       "      <td>12/1/10 8:26</td>\n",
       "      <td>2.55</td>\n",
       "      <td>17850</td>\n",
       "      <td>United Kingdom</td>\n",
       "    </tr>\n",
       "    <tr>\n",
       "      <th>1</th>\n",
       "      <td>536365</td>\n",
       "      <td>71053</td>\n",
       "      <td>WHITE METAL LANTERN</td>\n",
       "      <td>6</td>\n",
       "      <td>12/1/10 8:26</td>\n",
       "      <td>3.39</td>\n",
       "      <td>17850</td>\n",
       "      <td>United Kingdom</td>\n",
       "    </tr>\n",
       "    <tr>\n",
       "      <th>2</th>\n",
       "      <td>536365</td>\n",
       "      <td>84406B</td>\n",
       "      <td>CREAM CUPID HEARTS COAT HANGER</td>\n",
       "      <td>8</td>\n",
       "      <td>12/1/10 8:26</td>\n",
       "      <td>2.75</td>\n",
       "      <td>17850</td>\n",
       "      <td>United Kingdom</td>\n",
       "    </tr>\n",
       "    <tr>\n",
       "      <th>3</th>\n",
       "      <td>536365</td>\n",
       "      <td>84029G</td>\n",
       "      <td>KNITTED UNION FLAG HOT WATER BOTTLE</td>\n",
       "      <td>6</td>\n",
       "      <td>12/1/10 8:26</td>\n",
       "      <td>3.39</td>\n",
       "      <td>17850</td>\n",
       "      <td>United Kingdom</td>\n",
       "    </tr>\n",
       "    <tr>\n",
       "      <th>4</th>\n",
       "      <td>536365</td>\n",
       "      <td>84029E</td>\n",
       "      <td>RED WOOLLY HOTTIE WHITE HEART.</td>\n",
       "      <td>6</td>\n",
       "      <td>12/1/10 8:26</td>\n",
       "      <td>3.39</td>\n",
       "      <td>17850</td>\n",
       "      <td>United Kingdom</td>\n",
       "    </tr>\n",
       "    <tr>\n",
       "      <th>...</th>\n",
       "      <td>...</td>\n",
       "      <td>...</td>\n",
       "      <td>...</td>\n",
       "      <td>...</td>\n",
       "      <td>...</td>\n",
       "      <td>...</td>\n",
       "      <td>...</td>\n",
       "      <td>...</td>\n",
       "    </tr>\n",
       "    <tr>\n",
       "      <th>2495</th>\n",
       "      <td>536592</td>\n",
       "      <td>20761</td>\n",
       "      <td>BLUE PAISLEY SKETCHBOOK</td>\n",
       "      <td>1</td>\n",
       "      <td>12/1/10 17:06</td>\n",
       "      <td>7.62</td>\n",
       "      <td>null</td>\n",
       "      <td>United Kingdom</td>\n",
       "    </tr>\n",
       "    <tr>\n",
       "      <th>2496</th>\n",
       "      <td>536592</td>\n",
       "      <td>20780</td>\n",
       "      <td>BLACK EAR MUFF HEADPHONES</td>\n",
       "      <td>1</td>\n",
       "      <td>12/1/10 17:06</td>\n",
       "      <td>11.02</td>\n",
       "      <td>null</td>\n",
       "      <td>United Kingdom</td>\n",
       "    </tr>\n",
       "    <tr>\n",
       "      <th>2497</th>\n",
       "      <td>536592</td>\n",
       "      <td>20846</td>\n",
       "      <td>ZINC HEART LATTICE T-LIGHT HOLDER</td>\n",
       "      <td>1</td>\n",
       "      <td>12/1/10 17:06</td>\n",
       "      <td>2.51</td>\n",
       "      <td>null</td>\n",
       "      <td>United Kingdom</td>\n",
       "    </tr>\n",
       "    <tr>\n",
       "      <th>2498</th>\n",
       "      <td>536592</td>\n",
       "      <td>20914</td>\n",
       "      <td>SET/5 RED RETROSPOT LID GLASS BOWLS</td>\n",
       "      <td>1</td>\n",
       "      <td>12/1/10 17:06</td>\n",
       "      <td>5.91</td>\n",
       "      <td>null</td>\n",
       "      <td>United Kingdom</td>\n",
       "    </tr>\n",
       "    <tr>\n",
       "      <th>2499</th>\n",
       "      <td>536592</td>\n",
       "      <td>20931</td>\n",
       "      <td>BLUE POT PLANT CANDLE</td>\n",
       "      <td>2</td>\n",
       "      <td>12/1/10 17:06</td>\n",
       "      <td>7.62</td>\n",
       "      <td>null</td>\n",
       "      <td>United Kingdom</td>\n",
       "    </tr>\n",
       "  </tbody>\n",
       "</table>\n",
       "<p>2500 rows × 8 columns</p>\n",
       "</div>"
      ],
      "text/plain": [
       "     InvoiceNo StockCode                          Description Quantity  \\\n",
       "0       536365    85123A   WHITE HANGING HEART T-LIGHT HOLDER        6   \n",
       "1       536365     71053                  WHITE METAL LANTERN        6   \n",
       "2       536365    84406B       CREAM CUPID HEARTS COAT HANGER        8   \n",
       "3       536365    84029G  KNITTED UNION FLAG HOT WATER BOTTLE        6   \n",
       "4       536365    84029E       RED WOOLLY HOTTIE WHITE HEART.        6   \n",
       "...        ...       ...                                  ...      ...   \n",
       "2495    536592     20761              BLUE PAISLEY SKETCHBOOK        1   \n",
       "2496    536592     20780            BLACK EAR MUFF HEADPHONES        1   \n",
       "2497    536592     20846    ZINC HEART LATTICE T-LIGHT HOLDER        1   \n",
       "2498    536592     20914  SET/5 RED RETROSPOT LID GLASS BOWLS        1   \n",
       "2499    536592     20931               BLUE POT PLANT CANDLE         2   \n",
       "\n",
       "        InvoiceDate UnitPrice CustomerID         Country  \n",
       "0      12/1/10 8:26      2.55      17850  United Kingdom  \n",
       "1      12/1/10 8:26      3.39      17850  United Kingdom  \n",
       "2      12/1/10 8:26      2.75      17850  United Kingdom  \n",
       "3      12/1/10 8:26      3.39      17850  United Kingdom  \n",
       "4      12/1/10 8:26      3.39      17850  United Kingdom  \n",
       "...             ...       ...        ...             ...  \n",
       "2495  12/1/10 17:06      7.62       null  United Kingdom  \n",
       "2496  12/1/10 17:06     11.02       null  United Kingdom  \n",
       "2497  12/1/10 17:06      2.51       null  United Kingdom  \n",
       "2498  12/1/10 17:06      5.91       null  United Kingdom  \n",
       "2499  12/1/10 17:06      7.62       null  United Kingdom  \n",
       "\n",
       "[2500 rows x 8 columns]"
      ]
     },
     "metadata": {},
     "output_type": "display_data"
    }
   ],
   "source": [
    "# Verify loading - Display as table\n",
    "pandas_df = df.toPandas()\n",
    "display(pandas_df)"
   ]
  },
  {
   "cell_type": "code",
   "execution_count": 8,
   "id": "5841ce01-5518-4f53-9f14-ca64c62c563d",
   "metadata": {},
   "outputs": [],
   "source": [
    "# Convert DataFrame to RDD\n",
    "rdd = df.rdd"
   ]
  },
  {
   "cell_type": "code",
   "execution_count": 9,
   "id": "84dd417e-d1da-4141-af36-ff3e096a12db",
   "metadata": {},
   "outputs": [
    {
     "data": {
      "text/plain": [
       "MapPartitionsRDD[16] at javaToPython at NativeMethodAccessorImpl.java:0"
      ]
     },
     "execution_count": 9,
     "metadata": {},
     "output_type": "execute_result"
    }
   ],
   "source": [
    "#Verify rdd\n",
    "rdd"
   ]
  },
  {
   "cell_type": "code",
   "execution_count": 10,
   "id": "f39abc1b-f795-4946-a923-66d405315c8e",
   "metadata": {},
   "outputs": [],
   "source": [
    "#Import pyspark libraries\n",
    "from pyspark.sql import SparkSession\n",
    "from collections import defaultdict\n",
    "import re"
   ]
  },
  {
   "cell_type": "code",
   "execution_count": 11,
   "id": "354817c1-b95e-4dd7-9178-72ff7663bbc0",
   "metadata": {},
   "outputs": [],
   "source": [
    "# Function to extract attributes from text \n",
    "def extract_attributes(text):\n",
    "    # Define attribute patterns relevant to retail data\n",
    "    attribute_patterns = {\n",
    "        'electronics': r'\\belectronics\\b',\n",
    "        'furniture': r'\\bfurniture\\b',\n",
    "        'clothing': r'\\bclothing\\b',\n",
    "        'toys': r'\\btoys\\b',\n",
    "        'home': r'\\bhome\\b',\n",
    "        'blue':r'\\bblue\\b',\n",
    "        # Add more attributes as needed\n",
    "    }\n",
    "    attribute_words = defaultdict(int)\n",
    "    for attribute, pattern in attribute_patterns.items():\n",
    "        matches = re.findall(pattern, text, flags=re.IGNORECASE)\n",
    "        if matches:\n",
    "            attribute_words[attribute] += len(matches)\n",
    "    return attribute_words.items()\n"
   ]
  },
  {
   "cell_type": "code",
   "execution_count": 19,
   "id": "f319548a-e3ce-4e34-acac-740fa47e5ac2",
   "metadata": {},
   "outputs": [],
   "source": [
    "# Extract header and data rows\n",
    "header = df.columns  # Get the header column names\n",
    "data_rdd = rdd.map(lambda row: row.asDict())  # Convert Row objects to dictionaries"
   ]
  },
  {
   "cell_type": "code",
   "execution_count": null,
   "id": "e92f1c00-db00-476a-b558-d758e3f18ef9",
   "metadata": {},
   "outputs": [],
   "source": [
    "# Define a function to extract the 'Description' field and apply attribute extraction\n",
    "def parse_row(row):\n",
    "    description = row.get('Description', '') \n",
    "    return extract_attributes(description)"
   ]
  },
  {
   "cell_type": "code",
   "execution_count": 12,
   "id": "ead8a3b2-f4c0-4296-bf2d-099586819093",
   "metadata": {},
   "outputs": [],
   "source": [
    "# Map step: Extract attributes from each description\n",
    "mapped_rdd = rdd.flatMap(lambda row: extract_attributes(row['Description']))\n"
   ]
  },
  {
   "cell_type": "code",
   "execution_count": 13,
   "id": "251218aa-6904-4585-80eb-f5afc568e6e7",
   "metadata": {},
   "outputs": [],
   "source": [
    "# Reduce step: Combine the extracted attributes\n",
    "reduced_rdd = mapped_rdd.reduceByKey(lambda x, y: x + y)"
   ]
  },
  {
   "cell_type": "code",
   "execution_count": 14,
   "id": "8d1c0f0f-b2c2-4fdc-8e6b-951f351253c7",
   "metadata": {},
   "outputs": [
    {
     "data": {
      "text/plain": [
       "PythonRDD[21] at RDD at PythonRDD.scala:53"
      ]
     },
     "execution_count": 14,
     "metadata": {},
     "output_type": "execute_result"
    }
   ],
   "source": [
    "# Cache the RDD if you are reusing it multiple times\n",
    "reduced_rdd.cache()"
   ]
  },
  {
   "cell_type": "code",
   "execution_count": 15,
   "id": "68974f39-2cb7-4167-b7c9-aae9a8391fc4",
   "metadata": {},
   "outputs": [
    {
     "name": "stderr",
     "output_type": "stream",
     "text": [
      "                                                                                \r"
     ]
    }
   ],
   "source": [
    "# Collect the results to the driver\n",
    "results = reduced_rdd.collect()\n"
   ]
  },
  {
   "cell_type": "code",
   "execution_count": 16,
   "id": "78889fba-8b6e-46c8-b1cf-6a4abedc5d9f",
   "metadata": {},
   "outputs": [],
   "source": [
    "from pyspark.sql import Row\n",
    "\n",
    "# Convert results to DataFrame\n",
    "results_df = spark.createDataFrame([Row(Attribute=k, Count=v) for k, v in results])"
   ]
  },
  {
   "cell_type": "code",
   "execution_count": 17,
   "id": "d3996f09-96c5-4dea-8256-b83157173c4d",
   "metadata": {},
   "outputs": [
    {
     "name": "stdout",
     "output_type": "stream",
     "text": [
      "+---------+-----+\n",
      "|Attribute|Count|\n",
      "+---------+-----+\n",
      "|     home|   23|\n",
      "|     blue|   73|\n",
      "|     toys|    3|\n",
      "+---------+-----+\n",
      "\n"
     ]
    }
   ],
   "source": [
    "# Display the DataFrame\n",
    "results_df.show()"
   ]
  },
  {
   "cell_type": "code",
   "execution_count": 24,
   "id": "c6195489-843b-404a-9df3-3c08dfcac730",
   "metadata": {},
   "outputs": [
    {
     "name": "stderr",
     "output_type": "stream",
     "text": [
      "                                                                                \r"
     ]
    }
   ],
   "source": [
    "results_df.write.mode('overwrite').option(\"header\", \"true\").csv(\"output/csvfile\")"
   ]
  },
  {
   "cell_type": "code",
   "execution_count": null,
   "id": "1b2df4a2-4e59-4c14-98c9-9e65fe881cec",
   "metadata": {},
   "outputs": [],
   "source": [
    "# Stop Spark session\n",
    "#spark.stop()\n"
   ]
  }
 ],
 "metadata": {
  "kernelspec": {
   "display_name": "anaconda-2024.02-py310",
   "language": "python",
   "name": "conda-env-anaconda-2024.02-py310-py"
  },
  "language_info": {
   "codemirror_mode": {
    "name": "ipython",
    "version": 3
   },
   "file_extension": ".py",
   "mimetype": "text/x-python",
   "name": "python",
   "nbconvert_exporter": "python",
   "pygments_lexer": "ipython3",
   "version": "3.10.14"
  }
 },
 "nbformat": 4,
 "nbformat_minor": 5
}
